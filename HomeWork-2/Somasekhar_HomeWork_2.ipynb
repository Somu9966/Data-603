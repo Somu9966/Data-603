{
 "cells": [
  {
   "cell_type": "code",
   "execution_count": 1,
   "id": "2760d95b",
   "metadata": {},
   "outputs": [
    {
     "name": "stdout",
     "output_type": "stream",
     "text": [
      "Defaulting to user installation because normal site-packages is not writeable\n",
      "Requirement already satisfied: mrjob in c:\\users\\nagan\\appdata\\roaming\\python\\python310\\site-packages (0.7.4)\n",
      "Requirement already satisfied: PyYAML>=3.10 in c:\\programdata\\anaconda3\\lib\\site-packages (from mrjob) (6.0)\n"
     ]
    }
   ],
   "source": [
    "!pip install mrjob\n",
    "import re\n",
    "import pandas as pd\n"
   ]
  },
  {
   "cell_type": "code",
   "execution_count": 2,
   "id": "45033519",
   "metadata": {},
   "outputs": [
    {
     "name": "stderr",
     "output_type": "stream",
     "text": [
      "  % Total    % Received % Xferd  Average Speed   Time    Time     Time  Current\n",
      "                                 Dload  Upload   Total   Spent    Left  Speed\n",
      "\n",
      "  0     0    0     0    0     0      0      0 --:--:-- --:--:-- --:--:--     0\n",
      "  0     0    0     0    0     0      0      0 --:--:-- --:--:-- --:--:--     0\n",
      "100 7901k  100 7901k    0     0  10.3M      0 --:--:-- --:--:-- --:--:-- 10.3M\n"
     ]
    }
   ],
   "source": [
    "!curl https://raw.githubusercontent.com/Somu9966/Data-603/main/HomeWork-2/yelp.csv -o yelp.csv"
   ]
  },
  {
   "cell_type": "code",
   "execution_count": 3,
   "id": "44185a10",
   "metadata": {},
   "outputs": [],
   "source": [
    "read_file = pd.read_csv(r'yelp.csv')\n",
    "for each_row in range(len(read_file)):\n",
    "    text = re.sub(r'[\\n,]',' ',read_file['text'][each_row])\n",
    "    read_file.loc[each_row,['text']]=text\n",
    "    \n",
    "read_file.to_csv(\"cleaned_yelp.csv\",index_label = False, index=False, header=False)"
   ]
  },
  {
   "cell_type": "code",
   "execution_count": 4,
   "id": "0bfd8cd6",
   "metadata": {},
   "outputs": [
    {
     "name": "stdout",
     "output_type": "stream",
     "text": [
      "Overwriting FirstHW.py\n"
     ]
    }
   ],
   "source": [
    "%%file FirstHW.py\n",
    "from mrjob.job import MRJob\n",
    "import re\n",
    "\n",
    "WORD_RE = re.compile(r\"\\b\\w+\\b\")\n",
    "\n",
    "class MRAverageWordCount(MRJob):\n",
    "\n",
    "    def mapper(self, _, line):\n",
    "    \n",
    "            (business_id,date,review_id,stars,text,type,user_id,cool,useful,funny) = line.split(',')\n",
    "            if (type == \"review\"):\n",
    "                words = WORD_RE.findall(text)  #text.split()\n",
    "                yield (type, len(words))\n",
    "\n",
    "\n",
    "    def reducer(self, user_id, word_counts):\n",
    "        total_words = 0\n",
    "        total_reviews = 0\n",
    "        for count in word_counts:\n",
    "            total_words += count\n",
    "            total_reviews += 1\n",
    "        yield (\"Avg No of words in each review : \", total_words / total_reviews)\n",
    "\n",
    "if __name__ == '__main__':\n",
    "    MRAverageWordCount.run()\n"
   ]
  },
  {
   "cell_type": "code",
   "execution_count": 5,
   "id": "3a954cec",
   "metadata": {},
   "outputs": [
    {
     "name": "stderr",
     "output_type": "stream",
     "text": [
      "No configs specified for inline runner\n"
     ]
    },
    {
     "name": "stdout",
     "output_type": "stream",
     "text": [
      "Avg No of words in each review :  134.413\n"
     ]
    }
   ],
   "source": [
    "import FirstHW\n",
    "\n",
    "mr_job = FirstHW.MRAverageWordCount(args=['cleaned_yelp.csv'])\n",
    "with mr_job.make_runner() as runner:\n",
    "    runner.run()\n",
    "    for key, value in mr_job.parse_output(runner.cat_output()):\n",
    "        print(key, value)"
   ]
  },
  {
   "cell_type": "code",
   "execution_count": 6,
   "id": "d88ac2b6",
   "metadata": {},
   "outputs": [
    {
     "name": "stdout",
     "output_type": "stream",
     "text": [
      "Overwriting FirstHW1.py\n"
     ]
    }
   ],
   "source": [
    "%%file FirstHW1.py\n",
    "from mrjob.job import MRJob\n",
    "import re\n",
    "\n",
    "class ReviewCountByYearMonth(MRJob):\n",
    "\n",
    "\n",
    "    def mapper(self, _, line):\n",
    "            (business_id,date,review_id,stars,text,type,user_id,cool,useful,funny) = line.split(',')\n",
    "            match = re.search(r'(\\d{4}-\\d{2})', date)\n",
    "            if match:\n",
    "                year_month = match.group(1)\n",
    "                yield (year_month, 1)\n",
    "\n",
    "    def reducer(self, year_month, counts):\n",
    "        yield (year_month, sum(counts))\n",
    "\n",
    "if __name__ == '__main__':\n",
    "    ReviewCountByYearMonth.run()\n",
    "\n"
   ]
  },
  {
   "cell_type": "code",
   "execution_count": 7,
   "id": "5bd3a264",
   "metadata": {
    "scrolled": true
   },
   "outputs": [
    {
     "name": "stderr",
     "output_type": "stream",
     "text": [
      "No configs specified for inline runner\n"
     ]
    },
    {
     "name": "stdout",
     "output_type": "stream",
     "text": [
      "2005-04 1\n",
      "2005-07 2\n",
      "2005-12 1\n",
      "2006-01 6\n",
      "2006-02 9\n",
      "2006-04 2\n",
      "2006-05 1\n",
      "2006-06 5\n",
      "2006-07 2\n",
      "2006-08 9\n",
      "2006-09 4\n",
      "2006-10 5\n",
      "2006-11 6\n",
      "2006-12 6\n",
      "2007-01 14\n",
      "2007-02 20\n",
      "2007-03 42\n",
      "2007-04 8\n",
      "2007-05 23\n",
      "2007-06 12\n",
      "2007-07 35\n",
      "2007-08 29\n",
      "2007-09 26\n",
      "2007-10 23\n",
      "2007-11 28\n",
      "2007-12 25\n",
      "2008-01 46\n",
      "2008-02 48\n",
      "2008-03 47\n",
      "2008-04 53\n",
      "2008-05 65\n",
      "2008-06 76\n",
      "2008-07 80\n",
      "2008-08 75\n",
      "2008-09 59\n",
      "2008-10 79\n",
      "2008-11 66\n",
      "2008-12 71\n",
      "2009-01 108\n",
      "2009-02 79\n",
      "2009-03 126\n",
      "2009-04 101\n",
      "2009-05 101\n",
      "2009-06 67\n",
      "2009-07 95\n",
      "2009-08 98\n",
      "2009-09 113\n",
      "2009-10 101\n",
      "2009-11 78\n",
      "2009-12 104\n",
      "2010-01 154\n",
      "2010-02 148\n",
      "2010-03 168\n",
      "2010-04 148\n",
      "2010-05 154\n",
      "2010-06 118\n",
      "2010-07 160\n",
      "2010-08 201\n",
      "2010-09 150\n",
      "2010-10 144\n",
      "2010-11 147\n",
      "2010-12 160\n",
      "2011-01 239\n",
      "2011-02 216\n",
      "2011-03 263\n",
      "2011-04 263\n",
      "2011-05 229\n",
      "2011-06 230\n",
      "2011-07 236\n",
      "2011-08 266\n",
      "2011-09 193\n",
      "2011-10 204\n",
      "2011-11 203\n",
      "2011-12 249\n",
      "2012-01 304\n",
      "2012-02 219\n",
      "2012-03 259\n",
      "2012-04 265\n",
      "2012-05 275\n",
      "2012-06 272\n",
      "2012-07 281\n",
      "2012-08 249\n",
      "2012-09 239\n",
      "2012-10 258\n",
      "2012-11 208\n",
      "2012-12 196\n",
      "2013-01 52\n"
     ]
    }
   ],
   "source": [
    "import FirstHW1\n",
    "\n",
    "mr_job = FirstHW1.ReviewCountByYearMonth(args=['cleaned_yelp.csv'])\n",
    "with mr_job.make_runner() as runner:\n",
    "    runner.run()\n",
    "    for key, value in mr_job.parse_output(runner.cat_output()):\n",
    "        print(key, value)"
   ]
  },
  {
   "cell_type": "code",
   "execution_count": 8,
   "id": "23541ead",
   "metadata": {},
   "outputs": [
    {
     "name": "stdout",
     "output_type": "stream",
     "text": [
      "Overwriting FirstHW2.py\n"
     ]
    }
   ],
   "source": [
    "%%file FirstHW2.py\n",
    "from mrjob.job import MRJob\n",
    "\n",
    "class MRAverageCoolRating(MRJob):\n",
    "\n",
    "    def mapper(self, _, line):\n",
    "            (business_id,date,review_id,stars,text,type,user_id,cool,useful,funny) = line.split(',')\n",
    "            if (int(cool) != 0):\n",
    "                stars = int(stars)\n",
    "                yield \"Ratings\",stars\n",
    "            \n",
    "\n",
    "    def reducer(self, key, rating_cool):\n",
    "        sum_cools = 0\n",
    "        total_cools = 0\n",
    "        \n",
    "        for cool in rating_cool:\n",
    "            sum_cools+=cool\n",
    "            total_cools+=1\n",
    "            \n",
    "        yield (key,sum_cools/total_cools )\n",
    "\n",
    "if __name__ == '__main__':\n",
    "    MRAverageCoolRating.run()\n"
   ]
  },
  {
   "cell_type": "code",
   "execution_count": 9,
   "id": "d3dc24a2",
   "metadata": {},
   "outputs": [
    {
     "name": "stderr",
     "output_type": "stream",
     "text": [
      "No configs specified for inline runner\n"
     ]
    },
    {
     "name": "stdout",
     "output_type": "stream",
     "text": [
      "Ratings 3.8649595687331537\n"
     ]
    }
   ],
   "source": [
    "import FirstHW2\n",
    "\n",
    "mr_job = FirstHW2.MRAverageCoolRating(args=['cleaned_yelp.csv'])\n",
    "with mr_job.make_runner() as runner:\n",
    "    runner.run()\n",
    "    for key, value in mr_job.parse_output(runner.cat_output()):\n",
    "        print(key, value)"
   ]
  }
 ],
 "metadata": {
  "kernelspec": {
   "display_name": "Python 3 (ipykernel)",
   "language": "python",
   "name": "python3"
  },
  "language_info": {
   "codemirror_mode": {
    "name": "ipython",
    "version": 3
   },
   "file_extension": ".py",
   "mimetype": "text/x-python",
   "name": "python",
   "nbconvert_exporter": "python",
   "pygments_lexer": "ipython3",
   "version": "3.10.9"
  }
 },
 "nbformat": 4,
 "nbformat_minor": 5
}
