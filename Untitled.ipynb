{
 "cells": [
  {
   "cell_type": "code",
   "execution_count": 15,
   "id": "0032a06b",
   "metadata": {},
   "outputs": [],
   "source": [
    "from pyspark.sql import SparkSession\n",
    "spark = SparkSession.builder \\\n",
    "        .appName(\"NewYorkTaxiData\") \\\n",
    "        .config(\"spark.driver.memory\", \"4g\") \\\n",
    "        .config(\"spark.executor.memory\", \"4g\") \\\n",
    "        .getOrCreate()"
   ]
  },
  {
   "cell_type": "code",
   "execution_count": 16,
   "id": "77daf0f0",
   "metadata": {},
   "outputs": [
    {
     "name": "stdout",
     "output_type": "stream",
     "text": [
      "+--------------------+---------------------+---------------+-------------+------------+------------+------------+\n",
      "|tpep_pickup_datetime|tpep_dropoff_datetime|passenger_count|trip_distance|PULocationID|DOLocationID|total_amount|\n",
      "+--------------------+---------------------+---------------+-------------+------------+------------+------------+\n",
      "| 2023-01-01 00:32:10|  2023-01-01 00:40:36|            1.0|         0.97|         161|         141|        14.3|\n",
      "| 2023-01-01 00:55:08|  2023-01-01 01:01:27|            1.0|          1.1|          43|         237|        16.9|\n",
      "| 2023-01-01 00:25:04|  2023-01-01 00:37:49|            1.0|         2.51|          48|         238|        34.9|\n",
      "| 2023-01-01 00:03:48|  2023-01-01 00:13:25|            0.0|          1.9|         138|           7|       20.85|\n",
      "| 2023-01-01 00:10:29|  2023-01-01 00:21:19|            1.0|         1.43|         107|          79|       19.68|\n",
      "| 2023-01-01 00:50:34|  2023-01-01 01:02:52|            1.0|         1.84|         161|         137|        27.8|\n",
      "| 2023-01-01 00:09:22|  2023-01-01 00:19:49|            1.0|         1.66|         239|         143|       20.52|\n",
      "| 2023-01-01 00:27:12|  2023-01-01 00:49:56|            1.0|         11.7|         142|         200|       64.44|\n",
      "| 2023-01-01 00:21:44|  2023-01-01 00:36:40|            1.0|         2.95|         164|         236|       28.38|\n",
      "| 2023-01-01 00:39:42|  2023-01-01 00:50:36|            1.0|         3.01|         141|         107|        19.9|\n",
      "+--------------------+---------------------+---------------+-------------+------------+------------+------------+\n",
      "only showing top 10 rows\n",
      "\n"
     ]
    }
   ],
   "source": [
    "green_file_names = [\n",
    "    \"green_tripdata_2023-01.parquet\",\n",
    "    \"green_tripdata_2023-02.parquet\",\n",
    "    \"green_tripdata_2023-03.parquet\",\n",
    "    \"green_tripdata_2023-04.parquet\",\n",
    "    \"green_tripdata_2023-05.parquet\",\n",
    "    \"green_tripdata_2023-06.parquet\"\n",
    "]\n",
    "\n",
    "df_green = spark.read.parquet(green_file_names[0])\n",
    "for file_name in green_file_names[1:]:\n",
    "    df_green = df_green.union(spark.read.parquet(file_name))\n",
    "    \n",
    "yellow_file_names = [\n",
    "    \"yellow_tripdata_2023-01.parquet\",\n",
    "    \"yellow_tripdata_2023-02.parquet\",\n",
    "    \"yellow_tripdata_2023-03.parquet\",\n",
    "    \"yellow_tripdata_2023-04.parquet\",\n",
    "    \"yellow_tripdata_2023-05.parquet\",\n",
    "    \"yellow_tripdata_2023-06.parquet\"\n",
    "]\n",
    "\n",
    "df_yellow = spark.read.parquet(yellow_file_names[0])\n",
    "for file_name in yellow_file_names[1:]:\n",
    "    df_yellow = df_yellow.union(spark.read.parquet(file_name))\n",
    "\n",
    "    \n",
    "df_lookUp = spark.read.option(\"header\", \"true\").csv(\"taxi_zone_lookup.csv\")\n",
    "\n",
    "\n",
    "df_green = df_green.withColumnRenamed(\"lpep_pickup_datetime\", \"tpep_pickup_datetime\")\n",
    "df_green = df_green.withColumnRenamed(\"lpep_dropoff_datetime\", \"tpep_dropoff_datetime\")\n",
    "selected_columns = [\"tpep_pickup_datetime\",\"tpep_dropoff_datetime\",\"passenger_count\",\"trip_distance\",\"PULocationID\",\"DOLocationID\",\"total_amount\"]\n",
    "df_yellow = df_yellow.select(selected_columns)\n",
    "df_green = df_green.select(selected_columns)\n",
    "df = df_yellow.union(df_green)\n",
    "df.show(10)\n",
    "    \n",
    "\n"
   ]
  },
  {
   "cell_type": "code",
   "execution_count": 17,
   "id": "a1423e2c",
   "metadata": {},
   "outputs": [
    {
     "name": "stdout",
     "output_type": "stream",
     "text": [
      "+----------+-------------+--------------------+------------+\n",
      "|LocationID|      Borough|                Zone|service_zone|\n",
      "+----------+-------------+--------------------+------------+\n",
      "|         1|          EWR|      Newark Airport|         EWR|\n",
      "|         2|       Queens|         Jamaica Bay|   Boro Zone|\n",
      "|         3|        Bronx|Allerton/Pelham G...|   Boro Zone|\n",
      "|         4|    Manhattan|       Alphabet City| Yellow Zone|\n",
      "|         5|Staten Island|       Arden Heights|   Boro Zone|\n",
      "|         6|Staten Island|Arrochar/Fort Wad...|   Boro Zone|\n",
      "|         7|       Queens|             Astoria|   Boro Zone|\n",
      "|         8|       Queens|        Astoria Park|   Boro Zone|\n",
      "|         9|       Queens|          Auburndale|   Boro Zone|\n",
      "|        10|       Queens|        Baisley Park|   Boro Zone|\n",
      "+----------+-------------+--------------------+------------+\n",
      "only showing top 10 rows\n",
      "\n"
     ]
    }
   ],
   "source": [
    "df_lookUp.show(10)"
   ]
  },
  {
   "cell_type": "code",
   "execution_count": 18,
   "id": "8176921f",
   "metadata": {},
   "outputs": [
    {
     "name": "stdout",
     "output_type": "stream",
     "text": [
      "Number of rows in the DataFrame: 19898800\n"
     ]
    }
   ],
   "source": [
    "count = df.count()\n",
    "print(\"Number of rows in the DataFrame:\", count)\n"
   ]
  },
  {
   "cell_type": "code",
   "execution_count": 19,
   "id": "6eeed0f4",
   "metadata": {},
   "outputs": [
    {
     "name": "stdout",
     "output_type": "stream",
     "text": [
      "+------------+------------+--------------------+---------------------+---------------+-------------+------------+---------+--------------------+--------------+---------+--------------------+--------------+\n",
      "|DOLocationID|PULocationID|tpep_pickup_datetime|tpep_dropoff_datetime|passenger_count|trip_distance|total_amount|PUBorough|              PUZone|PUservice_zone|DOBorough|              DOZone|DOservice_zone|\n",
      "+------------+------------+--------------------+---------------------+---------------+-------------+------------+---------+--------------------+--------------+---------+--------------------+--------------+\n",
      "|         141|         161| 2023-01-01 00:32:10|  2023-01-01 00:40:36|            1.0|         0.97|        14.3|Manhattan|      Midtown Center|   Yellow Zone|Manhattan|     Lenox Hill West|   Yellow Zone|\n",
      "|         237|          43| 2023-01-01 00:55:08|  2023-01-01 01:01:27|            1.0|          1.1|        16.9|Manhattan|        Central Park|   Yellow Zone|Manhattan|Upper East Side S...|   Yellow Zone|\n",
      "|         238|          48| 2023-01-01 00:25:04|  2023-01-01 00:37:49|            1.0|         2.51|        34.9|Manhattan|        Clinton East|   Yellow Zone|Manhattan|Upper West Side N...|   Yellow Zone|\n",
      "|           7|         138| 2023-01-01 00:03:48|  2023-01-01 00:13:25|            0.0|          1.9|       20.85|   Queens|   LaGuardia Airport|      Airports|   Queens|             Astoria|     Boro Zone|\n",
      "|          79|         107| 2023-01-01 00:10:29|  2023-01-01 00:21:19|            1.0|         1.43|       19.68|Manhattan|            Gramercy|   Yellow Zone|Manhattan|        East Village|   Yellow Zone|\n",
      "|         137|         161| 2023-01-01 00:50:34|  2023-01-01 01:02:52|            1.0|         1.84|        27.8|Manhattan|      Midtown Center|   Yellow Zone|Manhattan|            Kips Bay|   Yellow Zone|\n",
      "|         143|         239| 2023-01-01 00:09:22|  2023-01-01 00:19:49|            1.0|         1.66|       20.52|Manhattan|Upper West Side S...|   Yellow Zone|Manhattan| Lincoln Square West|   Yellow Zone|\n",
      "|         200|         142| 2023-01-01 00:27:12|  2023-01-01 00:49:56|            1.0|         11.7|       64.44|Manhattan| Lincoln Square East|   Yellow Zone|    Bronx|Riverdale/North R...|     Boro Zone|\n",
      "|         236|         164| 2023-01-01 00:21:44|  2023-01-01 00:36:40|            1.0|         2.95|       28.38|Manhattan|       Midtown South|   Yellow Zone|Manhattan|Upper East Side N...|   Yellow Zone|\n",
      "|         107|         141| 2023-01-01 00:39:42|  2023-01-01 00:50:36|            1.0|         3.01|        19.9|Manhattan|     Lenox Hill West|   Yellow Zone|Manhattan|            Gramercy|   Yellow Zone|\n",
      "+------------+------------+--------------------+---------------------+---------------+-------------+------------+---------+--------------------+--------------+---------+--------------------+--------------+\n",
      "only showing top 10 rows\n",
      "\n"
     ]
    }
   ],
   "source": [
    "df = df.join(df_lookUp.select(\"LocationID\", \"Borough\").withColumnRenamed(\"LocationID\", \"PULocationID\"), on=\"PULocationID\", how=\"left\")\n",
    "df = df.withColumnRenamed(\"Borough\", \"PUBorough\")\n",
    "df = df.join(df_lookUp.select(\"LocationID\", \"Zone\").withColumnRenamed(\"LocationID\", \"PULocationID\"), on=\"PULocationID\", how=\"left\")\n",
    "df = df.withColumnRenamed(\"Zone\", \"PUZone\")\n",
    "df = df.join(df_lookUp.select(\"LocationID\", \"service_zone\").withColumnRenamed(\"LocationID\", \"PULocationID\"), on=\"PULocationID\", how=\"left\")\n",
    "df = df.withColumnRenamed(\"service_zone\", \"PUservice_zone\")\n",
    "df = df.join(df_lookUp.select(\"LocationID\", \"Borough\").withColumnRenamed(\"LocationID\", \"DOLocationID\"), on=\"DOLocationID\", how=\"left\")\n",
    "df = df.withColumnRenamed(\"Borough\", \"DOBorough\")\n",
    "df = df.join(df_lookUp.select(\"LocationID\", \"Zone\").withColumnRenamed(\"LocationID\", \"DOLocationID\"), on=\"DOLocationID\", how=\"left\")\n",
    "df = df.withColumnRenamed(\"Zone\", \"DOZone\")\n",
    "df = df.join(df_lookUp.select(\"LocationID\", \"service_zone\").withColumnRenamed(\"LocationID\", \"DOLocationID\"), on=\"DOLocationID\", how=\"left\")\n",
    "df = df.withColumnRenamed(\"service_zone\", \"DOservice_zone\")\n",
    "\n",
    "df.show(10)"
   ]
  },
  {
   "cell_type": "code",
   "execution_count": 20,
   "id": "55ec6538",
   "metadata": {},
   "outputs": [],
   "source": [
    "from pyspark.sql.functions import col\n",
    "df = df.filter((col(\"passenger_count\") != 0) & (col(\"passenger_count\") < 5))\n",
    "df = df.filter((col(\"total_amount\") > 0))\n",
    "df = df.withColumn('passenger_count', col('passenger_count').cast('string'))"
   ]
  },
  {
   "cell_type": "code",
   "execution_count": 21,
   "id": "99c0e18f",
   "metadata": {},
   "outputs": [
    {
     "name": "stdout",
     "output_type": "stream",
     "text": [
      "Number of rows in the DataFrame: 18395784\n"
     ]
    }
   ],
   "source": [
    "count = df.count()\n",
    "print(\"Number of rows in the DataFrame:\", count)\n"
   ]
  },
  {
   "cell_type": "code",
   "execution_count": 22,
   "id": "82b961c2",
   "metadata": {},
   "outputs": [
    {
     "ename": "Py4JJavaError",
     "evalue": "An error occurred while calling o487.collectToPython.\n: java.lang.OutOfMemoryError: Java heap space\r\n",
     "output_type": "error",
     "traceback": [
      "\u001b[1;31m---------------------------------------------------------------------------\u001b[0m",
      "\u001b[1;31mPy4JJavaError\u001b[0m                             Traceback (most recent call last)",
      "Cell \u001b[1;32mIn[22], line 4\u001b[0m\n\u001b[0;32m      1\u001b[0m \u001b[38;5;28;01mimport\u001b[39;00m \u001b[38;5;21;01mmatplotlib\u001b[39;00m\u001b[38;5;21;01m.\u001b[39;00m\u001b[38;5;21;01mpyplot\u001b[39;00m \u001b[38;5;28;01mas\u001b[39;00m \u001b[38;5;21;01mplt\u001b[39;00m\n\u001b[0;32m      2\u001b[0m \u001b[38;5;28;01mimport\u001b[39;00m \u001b[38;5;21;01mseaborn\u001b[39;00m \u001b[38;5;28;01mas\u001b[39;00m \u001b[38;5;21;01msns\u001b[39;00m\n\u001b[1;32m----> 4\u001b[0m pandas_df \u001b[38;5;241m=\u001b[39m \u001b[43mdf\u001b[49m\u001b[38;5;241;43m.\u001b[39;49m\u001b[43mselect\u001b[49m\u001b[43m(\u001b[49m\u001b[38;5;124;43m\"\u001b[39;49m\u001b[38;5;124;43mpassenger_count\u001b[39;49m\u001b[38;5;124;43m\"\u001b[39;49m\u001b[43m)\u001b[49m\u001b[38;5;241;43m.\u001b[39;49m\u001b[43mtoPandas\u001b[49m\u001b[43m(\u001b[49m\u001b[43m)\u001b[49m\n\u001b[0;32m      5\u001b[0m plt\u001b[38;5;241m.\u001b[39mbar(pandas_df[\u001b[38;5;124m'\u001b[39m\u001b[38;5;124mpassenger_count\u001b[39m\u001b[38;5;124m'\u001b[39m]\u001b[38;5;241m.\u001b[39mvalue_counts()\u001b[38;5;241m.\u001b[39mindex, pandas_df[\u001b[38;5;124m'\u001b[39m\u001b[38;5;124mpassenger_count\u001b[39m\u001b[38;5;124m'\u001b[39m]\u001b[38;5;241m.\u001b[39mvalue_counts())\n\u001b[0;32m      6\u001b[0m plt\u001b[38;5;241m.\u001b[39mxlabel(\u001b[38;5;124m'\u001b[39m\u001b[38;5;124mpassenger_count\u001b[39m\u001b[38;5;124m'\u001b[39m)\n",
      "File \u001b[1;32m~\\AppData\\Roaming\\Python\\Python310\\site-packages\\pyspark\\sql\\pandas\\conversion.py:202\u001b[0m, in \u001b[0;36mPandasConversionMixin.toPandas\u001b[1;34m(self)\u001b[0m\n\u001b[0;32m    199\u001b[0m             \u001b[38;5;28;01mraise\u001b[39;00m\n\u001b[0;32m    201\u001b[0m \u001b[38;5;66;03m# Below is toPandas without Arrow optimization.\u001b[39;00m\n\u001b[1;32m--> 202\u001b[0m rows \u001b[38;5;241m=\u001b[39m \u001b[38;5;28;43mself\u001b[39;49m\u001b[38;5;241;43m.\u001b[39;49m\u001b[43mcollect\u001b[49m\u001b[43m(\u001b[49m\u001b[43m)\u001b[49m\n\u001b[0;32m    203\u001b[0m \u001b[38;5;28;01mif\u001b[39;00m \u001b[38;5;28mlen\u001b[39m(rows) \u001b[38;5;241m>\u001b[39m \u001b[38;5;241m0\u001b[39m:\n\u001b[0;32m    204\u001b[0m     pdf \u001b[38;5;241m=\u001b[39m pd\u001b[38;5;241m.\u001b[39mDataFrame\u001b[38;5;241m.\u001b[39mfrom_records(\n\u001b[0;32m    205\u001b[0m         rows, index\u001b[38;5;241m=\u001b[39m\u001b[38;5;28mrange\u001b[39m(\u001b[38;5;28mlen\u001b[39m(rows)), columns\u001b[38;5;241m=\u001b[39m\u001b[38;5;28mself\u001b[39m\u001b[38;5;241m.\u001b[39mcolumns  \u001b[38;5;66;03m# type: ignore[arg-type]\u001b[39;00m\n\u001b[0;32m    206\u001b[0m     )\n",
      "File \u001b[1;32m~\\AppData\\Roaming\\Python\\Python310\\site-packages\\pyspark\\sql\\dataframe.py:1257\u001b[0m, in \u001b[0;36mDataFrame.collect\u001b[1;34m(self)\u001b[0m\n\u001b[0;32m   1237\u001b[0m \u001b[38;5;124;03m\"\"\"Returns all the records as a list of :class:`Row`.\u001b[39;00m\n\u001b[0;32m   1238\u001b[0m \n\u001b[0;32m   1239\u001b[0m \u001b[38;5;124;03m.. versionadded:: 1.3.0\u001b[39;00m\n\u001b[1;32m   (...)\u001b[0m\n\u001b[0;32m   1254\u001b[0m \u001b[38;5;124;03m[Row(age=14, name='Tom'), Row(age=23, name='Alice'), Row(age=16, name='Bob')]\u001b[39;00m\n\u001b[0;32m   1255\u001b[0m \u001b[38;5;124;03m\"\"\"\u001b[39;00m\n\u001b[0;32m   1256\u001b[0m \u001b[38;5;28;01mwith\u001b[39;00m SCCallSiteSync(\u001b[38;5;28mself\u001b[39m\u001b[38;5;241m.\u001b[39m_sc):\n\u001b[1;32m-> 1257\u001b[0m     sock_info \u001b[38;5;241m=\u001b[39m \u001b[38;5;28;43mself\u001b[39;49m\u001b[38;5;241;43m.\u001b[39;49m\u001b[43m_jdf\u001b[49m\u001b[38;5;241;43m.\u001b[39;49m\u001b[43mcollectToPython\u001b[49m\u001b[43m(\u001b[49m\u001b[43m)\u001b[49m\n\u001b[0;32m   1258\u001b[0m \u001b[38;5;28;01mreturn\u001b[39;00m \u001b[38;5;28mlist\u001b[39m(_load_from_socket(sock_info, BatchedSerializer(CPickleSerializer())))\n",
      "File \u001b[1;32m~\\AppData\\Roaming\\Python\\Python310\\site-packages\\py4j\\java_gateway.py:1322\u001b[0m, in \u001b[0;36mJavaMember.__call__\u001b[1;34m(self, *args)\u001b[0m\n\u001b[0;32m   1316\u001b[0m command \u001b[38;5;241m=\u001b[39m proto\u001b[38;5;241m.\u001b[39mCALL_COMMAND_NAME \u001b[38;5;241m+\u001b[39m\\\n\u001b[0;32m   1317\u001b[0m     \u001b[38;5;28mself\u001b[39m\u001b[38;5;241m.\u001b[39mcommand_header \u001b[38;5;241m+\u001b[39m\\\n\u001b[0;32m   1318\u001b[0m     args_command \u001b[38;5;241m+\u001b[39m\\\n\u001b[0;32m   1319\u001b[0m     proto\u001b[38;5;241m.\u001b[39mEND_COMMAND_PART\n\u001b[0;32m   1321\u001b[0m answer \u001b[38;5;241m=\u001b[39m \u001b[38;5;28mself\u001b[39m\u001b[38;5;241m.\u001b[39mgateway_client\u001b[38;5;241m.\u001b[39msend_command(command)\n\u001b[1;32m-> 1322\u001b[0m return_value \u001b[38;5;241m=\u001b[39m \u001b[43mget_return_value\u001b[49m\u001b[43m(\u001b[49m\n\u001b[0;32m   1323\u001b[0m \u001b[43m    \u001b[49m\u001b[43manswer\u001b[49m\u001b[43m,\u001b[49m\u001b[43m \u001b[49m\u001b[38;5;28;43mself\u001b[39;49m\u001b[38;5;241;43m.\u001b[39;49m\u001b[43mgateway_client\u001b[49m\u001b[43m,\u001b[49m\u001b[43m \u001b[49m\u001b[38;5;28;43mself\u001b[39;49m\u001b[38;5;241;43m.\u001b[39;49m\u001b[43mtarget_id\u001b[49m\u001b[43m,\u001b[49m\u001b[43m \u001b[49m\u001b[38;5;28;43mself\u001b[39;49m\u001b[38;5;241;43m.\u001b[39;49m\u001b[43mname\u001b[49m\u001b[43m)\u001b[49m\n\u001b[0;32m   1325\u001b[0m \u001b[38;5;28;01mfor\u001b[39;00m temp_arg \u001b[38;5;129;01min\u001b[39;00m temp_args:\n\u001b[0;32m   1326\u001b[0m     \u001b[38;5;28;01mif\u001b[39;00m \u001b[38;5;28mhasattr\u001b[39m(temp_arg, \u001b[38;5;124m\"\u001b[39m\u001b[38;5;124m_detach\u001b[39m\u001b[38;5;124m\"\u001b[39m):\n",
      "File \u001b[1;32m~\\AppData\\Roaming\\Python\\Python310\\site-packages\\pyspark\\errors\\exceptions\\captured.py:179\u001b[0m, in \u001b[0;36mcapture_sql_exception.<locals>.deco\u001b[1;34m(*a, **kw)\u001b[0m\n\u001b[0;32m    177\u001b[0m \u001b[38;5;28;01mdef\u001b[39;00m \u001b[38;5;21mdeco\u001b[39m(\u001b[38;5;241m*\u001b[39ma: Any, \u001b[38;5;241m*\u001b[39m\u001b[38;5;241m*\u001b[39mkw: Any) \u001b[38;5;241m-\u001b[39m\u001b[38;5;241m>\u001b[39m Any:\n\u001b[0;32m    178\u001b[0m     \u001b[38;5;28;01mtry\u001b[39;00m:\n\u001b[1;32m--> 179\u001b[0m         \u001b[38;5;28;01mreturn\u001b[39;00m f(\u001b[38;5;241m*\u001b[39ma, \u001b[38;5;241m*\u001b[39m\u001b[38;5;241m*\u001b[39mkw)\n\u001b[0;32m    180\u001b[0m     \u001b[38;5;28;01mexcept\u001b[39;00m Py4JJavaError \u001b[38;5;28;01mas\u001b[39;00m e:\n\u001b[0;32m    181\u001b[0m         converted \u001b[38;5;241m=\u001b[39m convert_exception(e\u001b[38;5;241m.\u001b[39mjava_exception)\n",
      "File \u001b[1;32m~\\AppData\\Roaming\\Python\\Python310\\site-packages\\py4j\\protocol.py:326\u001b[0m, in \u001b[0;36mget_return_value\u001b[1;34m(answer, gateway_client, target_id, name)\u001b[0m\n\u001b[0;32m    324\u001b[0m value \u001b[38;5;241m=\u001b[39m OUTPUT_CONVERTER[\u001b[38;5;28mtype\u001b[39m](answer[\u001b[38;5;241m2\u001b[39m:], gateway_client)\n\u001b[0;32m    325\u001b[0m \u001b[38;5;28;01mif\u001b[39;00m answer[\u001b[38;5;241m1\u001b[39m] \u001b[38;5;241m==\u001b[39m REFERENCE_TYPE:\n\u001b[1;32m--> 326\u001b[0m     \u001b[38;5;28;01mraise\u001b[39;00m Py4JJavaError(\n\u001b[0;32m    327\u001b[0m         \u001b[38;5;124m\"\u001b[39m\u001b[38;5;124mAn error occurred while calling \u001b[39m\u001b[38;5;132;01m{0}\u001b[39;00m\u001b[38;5;132;01m{1}\u001b[39;00m\u001b[38;5;132;01m{2}\u001b[39;00m\u001b[38;5;124m.\u001b[39m\u001b[38;5;130;01m\\n\u001b[39;00m\u001b[38;5;124m\"\u001b[39m\u001b[38;5;241m.\u001b[39m\n\u001b[0;32m    328\u001b[0m         \u001b[38;5;28mformat\u001b[39m(target_id, \u001b[38;5;124m\"\u001b[39m\u001b[38;5;124m.\u001b[39m\u001b[38;5;124m\"\u001b[39m, name), value)\n\u001b[0;32m    329\u001b[0m \u001b[38;5;28;01melse\u001b[39;00m:\n\u001b[0;32m    330\u001b[0m     \u001b[38;5;28;01mraise\u001b[39;00m Py4JError(\n\u001b[0;32m    331\u001b[0m         \u001b[38;5;124m\"\u001b[39m\u001b[38;5;124mAn error occurred while calling \u001b[39m\u001b[38;5;132;01m{0}\u001b[39;00m\u001b[38;5;132;01m{1}\u001b[39;00m\u001b[38;5;132;01m{2}\u001b[39;00m\u001b[38;5;124m. Trace:\u001b[39m\u001b[38;5;130;01m\\n\u001b[39;00m\u001b[38;5;132;01m{3}\u001b[39;00m\u001b[38;5;130;01m\\n\u001b[39;00m\u001b[38;5;124m\"\u001b[39m\u001b[38;5;241m.\u001b[39m\n\u001b[0;32m    332\u001b[0m         \u001b[38;5;28mformat\u001b[39m(target_id, \u001b[38;5;124m\"\u001b[39m\u001b[38;5;124m.\u001b[39m\u001b[38;5;124m\"\u001b[39m, name, value))\n",
      "\u001b[1;31mPy4JJavaError\u001b[0m: An error occurred while calling o487.collectToPython.\n: java.lang.OutOfMemoryError: Java heap space\r\n"
     ]
    }
   ],
   "source": [
    "import matplotlib.pyplot as plt\n",
    "import seaborn as sns\n",
    "\n",
    "pandas_df = df.select(\"passenger_count\").toPandas()\n",
    "plt.bar(pandas_df['passenger_count'].value_counts().index, pandas_df['passenger_count'].value_counts())\n",
    "plt.xlabel('passenger_count')\n",
    "plt.ylabel('Count')\n",
    "plt.title('Bar Chart of passenger_count')\n",
    "plt.show()"
   ]
  },
  {
   "cell_type": "code",
   "execution_count": null,
   "id": "46331d0b",
   "metadata": {},
   "outputs": [],
   "source": []
  },
  {
   "cell_type": "code",
   "execution_count": null,
   "id": "3b12111a",
   "metadata": {},
   "outputs": [],
   "source": []
  },
  {
   "cell_type": "code",
   "execution_count": null,
   "id": "da40a39c",
   "metadata": {},
   "outputs": [],
   "source": [
    "data = pd.read_parquet(\"green_tripdata_2023-01.parquet\")"
   ]
  },
  {
   "cell_type": "code",
   "execution_count": 14,
   "id": "ba206a0e",
   "metadata": {},
   "outputs": [],
   "source": [
    "spark.stop()"
   ]
  }
 ],
 "metadata": {
  "kernelspec": {
   "display_name": "Python 3 (ipykernel)",
   "language": "python",
   "name": "python3"
  },
  "language_info": {
   "codemirror_mode": {
    "name": "ipython",
    "version": 3
   },
   "file_extension": ".py",
   "mimetype": "text/x-python",
   "name": "python",
   "nbconvert_exporter": "python",
   "pygments_lexer": "ipython3",
   "version": "3.10.9"
  }
 },
 "nbformat": 4,
 "nbformat_minor": 5
}
